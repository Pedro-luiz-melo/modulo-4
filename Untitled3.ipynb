{
 "cells": [
  {
   "cell_type": "code",
   "execution_count": 13,
   "id": "9ccbc7ef-bc70-4e92-9a7b-f3d8510c832e",
   "metadata": {},
   "outputs": [
    {
     "ename": "IndentationError",
     "evalue": "unexpected indent (2684041142.py, line 20)",
     "output_type": "error",
     "traceback": [
      "\u001b[1;36m  Cell \u001b[1;32mIn[13], line 20\u001b[1;36m\u001b[0m\n\u001b[1;33m    print(\"Total de cobaias:\", soma_sapo+soma_rato+soma_coelho)\u001b[0m\n\u001b[1;37m    ^\u001b[0m\n\u001b[1;31mIndentationError\u001b[0m\u001b[1;31m:\u001b[0m unexpected indent\n"
     ]
    }
   ],
   "source": [
    "# Entrada de dados\n",
    "n = int(input()) # quantidade de experimentos \n",
    "# inicializar as variaveis resultado e controle\n",
    "cont = 0 \n",
    "soma_sapo, soma_rato, soma_coelho = 0, 0, 0\n",
    "# iterações\n",
    "while cont < n : \n",
    "     quantia = int(input())\n",
    "     tipo = input()\n",
    "if tipo == 'S':\n",
    "    soma_sapo += quantia\n",
    "elif tipo == 'R':\n",
    "    soma_rato += quantia\n",
    "elif tipo == 'C':\n",
    "    soma_coelho += quantia\n",
    "\n",
    "\n",
    "cont += 1\n",
    "\n",
    " print(\"Total de cobaias:\", soma_sapo+soma_rato+soma_coelho)\n",
    " print(\"Total de sapos: \", soma_sapo)\n",
    " print(\"Total de ratos: \", soma_rato)\n",
    " print(\"Total de coelhos:\", soma_coelho)"
   ]
  }
 ],
 "metadata": {
  "kernelspec": {
   "display_name": "Python 3 (ipykernel)",
   "language": "python",
   "name": "python3"
  },
  "language_info": {
   "codemirror_mode": {
    "name": "ipython",
    "version": 3
   },
   "file_extension": ".py",
   "mimetype": "text/x-python",
   "name": "python",
   "nbconvert_exporter": "python",
   "pygments_lexer": "ipython3",
   "version": "3.12.2"
  }
 },
 "nbformat": 4,
 "nbformat_minor": 5
}
